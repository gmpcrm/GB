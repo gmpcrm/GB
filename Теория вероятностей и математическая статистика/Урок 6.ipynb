{
 "cells": [
  {
   "attachments": {},
   "cell_type": "markdown",
   "metadata": {},
   "source": [
    "### Задача 6.1\n",
    "Известно, что генеральная совокупность распределена нормально\n",
    "со средним квадратическим отклонением, равным 16.\n",
    "Найти доверительный интервал для оценки математического ожидания a с надежностью 0.95,\n",
    "если выборочная средняя M = 80, а объем выборки n = 256.\n",
    "\n",
    "### Решение\n",
    "\n",
    "Средне квадратическое отклонение генеральной совокупности $\\sigma = 16$, \n",
    "\n",
    "Объем выборки из генеральной совокупности $n = 256$,\n",
    "\n",
    "Выборочное среднее $m = 80$,\n",
    "\n",
    "Надежность = 0.95, $\\alpha = 1 - 0.95 = 0.05$\n",
    "\n",
    "Используем формулу для нахождения интервала для среднего арифметического при известной σ генеральной совокупности\n",
    "\n",
    "$$\\bar{x} \\pm Z_{\\frac{\\alpha}{2}} \\frac{\\sigma}{\\sqrt{n}}$$\n",
    "\n",
    "По таблице для $\\alpha = 0.05$ получаем $z_{\\frac{\\alpha}{2}}=1.96$\n"
   ]
  },
  {
   "cell_type": "code",
   "execution_count": 1,
   "metadata": {},
   "outputs": [],
   "source": [
    "import numpy as np\n",
    "import pandas as pd\n",
    "from scipy import stats"
   ]
  },
  {
   "cell_type": "code",
   "execution_count": 3,
   "metadata": {},
   "outputs": [
    {
     "data": {
      "text/plain": [
       "(78.04, 81.96)"
      ]
     },
     "execution_count": 3,
     "metadata": {},
     "output_type": "execute_result"
    }
   ],
   "source": [
    "z = 1.96\n",
    "m = 80\n",
    "n = 256\n",
    "sigma = 16\n",
    "\n",
    "(m - 1.96 * sigma/np.sqrt(n), m + 1.96 * sigma/np.sqrt(n))"
   ]
  },
  {
   "attachments": {},
   "cell_type": "markdown",
   "metadata": {},
   "source": [
    "### Задача 6.2\n",
    "\n",
    "В результате 10 независимых измерений некоторой величины X, выполненных с одинаковой точностью,\n",
    "получены опытные данные:\n",
    "6.9, 6.1, 6.2, 6.8, 7.5, 6.3, 6.4, 6.9, 6.7, 6.1\n",
    "Предполагая, что результаты измерений подчинены нормальному закону распределения вероятностей,\n",
    "оценить истинное значение величины X при помощи доверительного интервала, покрывающего это\n",
    "значение с доверительной вероятностью 0,95.\n",
    "\n",
    "### Решение\n",
    "Так как дисперсия неизвестна, используем распределение Стюдента.\n",
    "\n",
    "$$\\overline{\\mathrm{x}} \\pm \\operatorname{t}_{\\frac{\\alpha}{2}}  \\frac{\\sigma}{\\sqrt{n}}$$\n",
    "\n",
    "По таблице для $\\frac{\\alpha}{2} = \\frac{1 - 0.95}{2} = 0.025$ находим p = 0.975"
   ]
  },
  {
   "cell_type": "code",
   "execution_count": 8,
   "metadata": {},
   "outputs": [
    {
     "data": {
      "text/plain": [
       "(6.267515851415713, 6.912484148584288)"
      ]
     },
     "execution_count": 8,
     "metadata": {},
     "output_type": "execute_result"
    }
   ],
   "source": [
    "a = np.array([6.9, 6.1, 6.2, 6.8, 7.5, 6.3, 6.4, 6.9, 6.7, 6.1])\n",
    "n = 10\n",
    "x_1 = np.mean(a)\n",
    "D = np.var(a, ddof=1)\n",
    "t1 = stats.t.ppf(0.975, n - 1)\n",
    "\n",
    "(x_1 - t1 * np.sqrt(D/10), x_1 + t1 * np.sqrt(D/10))"
   ]
  },
  {
   "cell_type": "markdown",
   "metadata": {},
   "source": [
    "### Задача 6.3\n",
    "\n",
    "Рост дочерей 175, 167, 154, 174, 178, 148, 160, 167, 169, 170. Рост матерей 178, 165, 165, 173, 168, 155, 160, 164, 178, 175. Используя эти данные построить 95% доверительный интервал для разности среднего роста \n",
    "родителей и детей.\n",
    "\n",
    "### Решение\n",
    "Создадим выборку a и выборку b , найдем их средние $x_1$ и $x_2$ и их разность delta"
   ]
  },
  {
   "cell_type": "code",
   "execution_count": 15,
   "metadata": {},
   "outputs": [],
   "source": [
    "a = np.array([175, 167, 154, 174, 178, 148, 160, 167, 169, 170])\n",
    "b = np.array([178, 165, 165, 173, 168, 155, 160, 164, 178, 175])\n",
    "\n",
    "x_1 = np.mean(a)\n",
    "x_2 = np.mean(b)\n",
    "delta = x_1 - x_2"
   ]
  },
  {
   "cell_type": "markdown",
   "metadata": {},
   "source": [
    "Находим несмещенные дисперсии для каждой выборки и затем стандартную ошибку для разности средних и критерий Стьюдента. "
   ]
  },
  {
   "cell_type": "code",
   "execution_count": 12,
   "metadata": {},
   "outputs": [
    {
     "data": {
      "text/plain": [
       "(-10.068418034506857, 6.268418034506846)"
      ]
     },
     "execution_count": 12,
     "metadata": {},
     "output_type": "execute_result"
    }
   ],
   "source": [
    "n = len(a)\n",
    "D1 = np.var(a, ddof = 1)\n",
    "D2 = np.var(b, ddof = 1)\n",
    "\n",
    "D = (D1 + D2) / 2\n",
    "SE = np.sqrt(D/n + D/n)\n",
    "\n",
    "t = stats.t.ppf(0.975, 2 * (n - 1))\n",
    "\n",
    "(delta - t*SE, delta + t*SE)"
   ]
  }
 ],
 "metadata": {
  "kernelspec": {
   "display_name": "Python 3.10.8 64-bit (microsoft store)",
   "language": "python",
   "name": "python3"
  },
  "language_info": {
   "codemirror_mode": {
    "name": "ipython",
    "version": 3
   },
   "file_extension": ".py",
   "mimetype": "text/x-python",
   "name": "python",
   "nbconvert_exporter": "python",
   "pygments_lexer": "ipython3",
   "version": "3.10.9 (tags/v3.10.9:1dd9be6, Dec  6 2022, 20:01:21) [MSC v.1934 64 bit (AMD64)]"
  },
  "orig_nbformat": 4,
  "vscode": {
   "interpreter": {
    "hash": "61fec5004ca42a1a961993fba5115fb87822bc7669b63d33ab5512a8f7e57206"
   }
  }
 },
 "nbformat": 4,
 "nbformat_minor": 2
}
