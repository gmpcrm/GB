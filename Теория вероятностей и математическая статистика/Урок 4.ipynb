{
 "cells": [
  {
   "cell_type": "markdown",
   "metadata": {},
   "source": [
    "1) Случайная непрерывная величина A имеет равномерное распределение на\n",
    "промежутке (200, 800]. Найдите ее среднее значение и дисперсию.\n",
    "\n",
    "Решение:\n",
    "\n",
    "Среднее $$M(X)=\\frac{a+b}{2}=\\frac{200+800}{2}={500}$$\n",
    "\n",
    "Дисперсия $$D=\\frac{(b-a)^2}{12}=\\frac{(800-200)^2}{12}=30000$$\n"
   ]
  },
  {
   "cell_type": "markdown",
   "metadata": {},
   "source": [
    "2) О случайной непрерывной равномерно распределенной величине B известно, что ее\n",
    "дисперсия равна 0.2.\n",
    "Можно ли найти правую границу величины B и ее среднее значение зная, что левая\n",
    "граница равна 0.5?\n",
    "Если да, найдите ее.\n",
    "\n",
    "Решение:\n",
    "\n",
    "По формуле $$D=\\frac{(b-a)^2}{12}$$\n",
    "\n",
    "подставляя значения из задания получаем\n",
    "\n",
    "$$0.2=\\frac{(b-0.5)^2}{12}$$\n",
    "\n",
    "получаем b = ~-1.05 или b = ~2.05, так как правая граница больше левой, а левая равна 0.5, то b = ~2.05\n",
    "\n",
    "Среднее $$M(X)=\\frac{a+b}{2}=\\frac{0.5+2.05}{2}={1.275}$$\n",
    "\n",
    "Овет: правая граница величины B = ~2.05 и средняя B = ~1.275 "
   ]
  },
  {
   "cell_type": "markdown",
   "metadata": {},
   "source": [
    "3) Непрерывная случайная величина X распределена нормально и задана плотностью\n",
    "распределения\n",
    "\n",
    "$$f(x)=\\frac{1}{4 \\sqrt{2 \\pi}} \\cdot e ^ {-\\frac{(x+2)^2}{32}}$$\n",
    "\n",
    "<!---\n",
    "f(x) = (1 / (4 * sqrt(2pi))) * exp((-(x+2)**2) / 32)\n",
    "-->\n",
    "\n",
    "Найдите:\n",
    "\n",
    "а). M(X)\n",
    "\n",
    "б). D(X)\n",
    "\n",
    "в). std(X) (среднее квадратичное отклонение)\n",
    "\n",
    "Решение:\n",
    "\n",
    "По формуле нормального распределения\n",
    "\n",
    "$$f(x)=\\frac{1}{\\sigma \\sqrt{2 \\pi}} \\cdot e^{-\\frac{(x-a)^2}{2 \\sigma^2}}$$\n",
    "\n",
    "M(X) = -2\n",
    "\n",
    "D(X) = 16\n",
    "\n",
    "std(X) = 4\n",
    "\n"
   ]
  },
  {
   "cell_type": "markdown",
   "metadata": {},
   "source": [
    "4) Рост взрослого населения города X имеет нормальное распределение.\n",
    "Причем, средний рост равен 174 см, а среднее квадратичное отклонение равно 8 см.\n",
    "Какова вероятность того, что случайным образом выбранный взрослый человек имеет\n",
    "рост:\n",
    "\n",
    "Решение ниже\n",
    "\n",
    "a). больше 182 см (Ответ: 0.15865525393145707)\n",
    "\n",
    "б). больше 190 см (Ответ: 0.02275013194817921)\n",
    "\n",
    "в). от 166 см до 190 см (Ответ: 0.8185946141203637)\n",
    "\n",
    "г). от 166 см до 182 см (Ответ: 0.6826894921370859)\n",
    "\n",
    "д). от 158 см до 190 см (Ответ: 0.9544997361036416)\n",
    "\n",
    "е). не выше 150 см или не ниже 190 см (Ответ: 0.0241000299798092)\n",
    "\n",
    "ё). не выше 150 см или не ниже 198 см (Ответ: 0.002699796063260096)\n",
    "\n",
    "ж). ниже 166 см. (Ответ: 0.15865525393145707)\n",
    "\n",
    "Решение:\n",
    "\n",
    "По формуле $$Z=\\frac{X-\\mu}{\\sigma}$$\n",
    "\n",
    "считаем значения\n"
   ]
  },
  {
   "cell_type": "code",
   "execution_count": 8,
   "metadata": {},
   "outputs": [],
   "source": [
    "import scipy.stats as st\n",
    "\n",
    "mu = 174\n",
    "sigma = 8\n",
    "\n",
    "def f(x):\n",
    "    return st.norm.cdf((x - mu)/sigma)"
   ]
  },
  {
   "cell_type": "code",
   "execution_count": 9,
   "metadata": {},
   "outputs": [
    {
     "data": {
      "text/plain": [
       "0.15865525393145707"
      ]
     },
     "execution_count": 9,
     "metadata": {},
     "output_type": "execute_result"
    }
   ],
   "source": [
    "1 - f(182)"
   ]
  },
  {
   "cell_type": "code",
   "execution_count": 10,
   "metadata": {},
   "outputs": [
    {
     "data": {
      "text/plain": [
       "0.02275013194817921"
      ]
     },
     "execution_count": 10,
     "metadata": {},
     "output_type": "execute_result"
    }
   ],
   "source": [
    "1 - f(190)"
   ]
  },
  {
   "cell_type": "code",
   "execution_count": 11,
   "metadata": {},
   "outputs": [
    {
     "data": {
      "text/plain": [
       "0.8185946141203637"
      ]
     },
     "execution_count": 11,
     "metadata": {},
     "output_type": "execute_result"
    }
   ],
   "source": [
    "f(190) - f(166)"
   ]
  },
  {
   "cell_type": "code",
   "execution_count": 12,
   "metadata": {},
   "outputs": [
    {
     "data": {
      "text/plain": [
       "0.6826894921370859"
      ]
     },
     "execution_count": 12,
     "metadata": {},
     "output_type": "execute_result"
    }
   ],
   "source": [
    "f(182) - f(166)"
   ]
  },
  {
   "cell_type": "code",
   "execution_count": 13,
   "metadata": {},
   "outputs": [
    {
     "data": {
      "text/plain": [
       "0.9544997361036416"
      ]
     },
     "execution_count": 13,
     "metadata": {},
     "output_type": "execute_result"
    }
   ],
   "source": [
    "f(190) - f(158)"
   ]
  },
  {
   "cell_type": "code",
   "execution_count": 14,
   "metadata": {},
   "outputs": [
    {
     "data": {
      "text/plain": [
       "0.0241000299798092"
      ]
     },
     "execution_count": 14,
     "metadata": {},
     "output_type": "execute_result"
    }
   ],
   "source": [
    "f(150) + 1 - f(190)"
   ]
  },
  {
   "cell_type": "code",
   "execution_count": 15,
   "metadata": {},
   "outputs": [
    {
     "data": {
      "text/plain": [
       "0.002699796063260096"
      ]
     },
     "execution_count": 15,
     "metadata": {},
     "output_type": "execute_result"
    }
   ],
   "source": [
    "f(150) + 1 - f(198)"
   ]
  },
  {
   "cell_type": "code",
   "execution_count": 16,
   "metadata": {},
   "outputs": [
    {
     "data": {
      "text/plain": [
       "0.15865525393145707"
      ]
     },
     "execution_count": 16,
     "metadata": {},
     "output_type": "execute_result"
    }
   ],
   "source": [
    "f(166)"
   ]
  },
  {
   "cell_type": "markdown",
   "metadata": {},
   "source": [
    "5) На сколько сигм (средних квадратичных отклонений) отклоняется рост человека,\n",
    "равный 190 см, от математического ожидания роста в популяции, в которой \n",
    "\n",
    "M(X) = 178 см и \n",
    "\n",
    "D(X) = 25 кв.см?\n",
    "\n",
    "Решение \n",
    "\n",
    "По формуле $$D(X) = {\\sigma}^2$$\n",
    "\n",
    "получаем $${\\sigma} = 5$$\n",
    "\n",
    "$190 - 178 = 12$\n",
    "\n",
    "$\\frac{12}{5} = 2.2$\n",
    "\n",
    "Ответ: Рост отклонится на $2.2{\\sigma}$ "
   ]
  }
 ],
 "metadata": {
  "kernelspec": {
   "display_name": "Python 3.10.8 64-bit (microsoft store)",
   "language": "python",
   "name": "python3"
  },
  "language_info": {
   "codemirror_mode": {
    "name": "ipython",
    "version": 3
   },
   "file_extension": ".py",
   "mimetype": "text/x-python",
   "name": "python",
   "nbconvert_exporter": "python",
   "pygments_lexer": "ipython3",
   "version": "3.10.8"
  },
  "orig_nbformat": 4,
  "vscode": {
   "interpreter": {
    "hash": "61fec5004ca42a1a961993fba5115fb87822bc7669b63d33ab5512a8f7e57206"
   }
  }
 },
 "nbformat": 4,
 "nbformat_minor": 2
}
