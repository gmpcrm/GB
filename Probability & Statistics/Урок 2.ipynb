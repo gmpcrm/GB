{
 "cells": [
  {
   "cell_type": "markdown",
   "metadata": {},
   "source": [
    "1. Вероятность того, что стрелок попадет в мишень, выстрелив один раз, равна 0.8. Стрелок выстрелил 100 раз. Найдите вероятность того, что стрелок попадет в цель ровно 85 раз.\n",
    "\n",
    "Решение\n",
    "\n",
    "По формуле Бернулли $$\\begin{equation}P_n(X=k)=C_n^k p^k q^{n-k}\\end{equation}$$\n",
    "\n",
    "подставляя n = 100, k = 85, p = 0.8, q = 0.2 получаем\n",
    "\n",
    "$$\\begin{equation} P=C_{100}^{85}\\cdot 0.8^{85} \\cdot 0.2^{15}=0.048\\end{equation}$$\n"
   ]
  },
  {
   "cell_type": "code",
   "execution_count": 2,
   "metadata": {},
   "outputs": [],
   "source": [
    "import math\n",
    "\n",
    "def combo(n,k):\n",
    "    return math.factorial(n) / (math.factorial(k) * math.factorial(n-k))\n",
    "\n",
    "def bernulli(p, n, k):\n",
    "    return combo(n,k) * p**k * (1 - p)**(n - k)\n"
   ]
  },
  {
   "cell_type": "code",
   "execution_count": 3,
   "metadata": {},
   "outputs": [
    {
     "data": {
      "text/plain": [
       "0.048061793700746355"
      ]
     },
     "execution_count": 3,
     "metadata": {},
     "output_type": "execute_result"
    }
   ],
   "source": [
    "bernulli(0.8, 100, 85)"
   ]
  },
  {
   "cell_type": "markdown",
   "metadata": {},
   "source": [
    "2. Вероятность того, что лампочка перегорит в течение первого дня эксплуатации, равна 0.0004. В жилом комплексе после ремонта в один день включили 5000 новых лампочек. Какова вероятность, что ни одна из них не перегорит в первый день? Какова вероятность, что перегорят ровно две?\n",
    "\n",
    "Решение\n",
    "\n",
    "По формуле Пуассона\n",
    "\n",
    "$$P_m \\approx \\frac{\\lambda^m}{m !} e^{-\\lambda}$$\n",
    "\n",
    "2.1 Какова вероятность, что ни одна из них не перегорит в первый день?\n",
    "\n",
    "подставляя m = 0, lambda = 5000 * 0.0004 = 2, получаем\n",
    "\n",
    "$$P \\approx \\frac{{2}^{0}}{{0} !} e^{-{2}}\\approx  0.135$$\n",
    "\n",
    "2.2 Какова вероятность, что перегорят ровно две?\n",
    "\n",
    "подставляя m = 2, lambda = 5000 * 0.0004 = 2, получаем\n",
    "\n",
    "$$P \\approx \\frac{{2}^{2}}{{2} !} e^{-{2}}\\approx  0.27$$\n"
   ]
  },
  {
   "cell_type": "code",
   "execution_count": 18,
   "metadata": {},
   "outputs": [],
   "source": [
    "import numpy\n",
    "\n",
    "def puasson(l,m):\n",
    "    return l**m/math.factorial(m)*numpy.exp(-l)\n",
    "\n",
    "lmbd = 5000 * 0.0004"
   ]
  },
  {
   "cell_type": "code",
   "execution_count": 9,
   "metadata": {},
   "outputs": [
    {
     "data": {
      "text/plain": [
       "0.1353352832366127"
      ]
     },
     "execution_count": 9,
     "metadata": {},
     "output_type": "execute_result"
    }
   ],
   "source": [
    "puasson(lmbd, 0)"
   ]
  },
  {
   "cell_type": "code",
   "execution_count": 10,
   "metadata": {},
   "outputs": [
    {
     "data": {
      "text/plain": [
       "0.2706705664732254"
      ]
     },
     "execution_count": 10,
     "metadata": {},
     "output_type": "execute_result"
    }
   ],
   "source": [
    "puasson(lmbd, 2)"
   ]
  },
  {
   "cell_type": "markdown",
   "metadata": {},
   "source": [
    "3. Монету подбросили 144 раза. Какова вероятность, что орел выпадет ровно 70 раз?\n",
    "\n",
    "Решение\n",
    "\n",
    "По формуле Бернулли $$\\begin{equation}P_n(X=k)=C_n^k p^k q^{n-k}\\end{equation}$$\n",
    "\n",
    "подставляя n = 144, k = 70, p = 0.5, q = 0.5 получаем\n",
    "\n",
    "$$\\begin{equation} P=C_{144}^{70}\\cdot 0.5^{70} \\cdot 0.5^{74}=0.063\\end{equation}$$"
   ]
  },
  {
   "cell_type": "code",
   "execution_count": 11,
   "metadata": {},
   "outputs": [
    {
     "data": {
      "text/plain": [
       "0.06281178035144776"
      ]
     },
     "execution_count": 11,
     "metadata": {},
     "output_type": "execute_result"
    }
   ],
   "source": [
    "bernulli(0.5, 144, 70)"
   ]
  },
  {
   "cell_type": "markdown",
   "metadata": {},
   "source": [
    "4. В первом ящике находится 10 мячей, из которых 7 - белые. Во втором ящике - 11 мячей, из которых 9 белых. Из каждого ящика вытаскивают случайным образом по два мяча. Какова вероятность того, что все мячи белые? Какова вероятность того, что ровно два мяча белые? Какова вероятность того, что хотя бы один мяч белый?\n",
    "\n",
    "4.1 Какова вероятность того, что все мячи белые?\n",
    "\n",
    "$$P=\\frac{7}{10} \\cdot \\frac{6}{9} \\cdot \\frac{9}{11} \\cdot \\frac{8}{10}=0.31$$\n",
    "\n",
    "4.2 Какова вероятность того, что ровно два мяча белые?\n",
    "\n",
    "6 вариантов: ббчч+бчбч+бччб+чббч+чбчб+ччбб\n",
    "\n",
    "$$ P = 0.20 $$\n",
    "\n",
    "4.3 Какова вероятность того, что хотя бы один мяч белый?\n",
    "\n",
    "вероятность обратная от того, что все шары черные\n",
    "\n",
    "$$ P = 0.999 $$\n",
    "\n",
    "\n"
   ]
  },
  {
   "cell_type": "code",
   "execution_count": 17,
   "metadata": {},
   "outputs": [
    {
     "data": {
      "text/plain": [
       "0.3054545454545454"
      ]
     },
     "execution_count": 17,
     "metadata": {},
     "output_type": "execute_result"
    }
   ],
   "source": [
    "7/10*6/9*9/11*8/10"
   ]
  },
  {
   "cell_type": "code",
   "execution_count": 19,
   "metadata": {},
   "outputs": [
    {
     "data": {
      "text/plain": [
       "0.20484848484848484"
      ]
     },
     "execution_count": 19,
     "metadata": {},
     "output_type": "execute_result"
    }
   ],
   "source": [
    "7/10*6/9*2/11*1/10 + 7/10*3/9*9/11*2/10 + 7/10*3/9*2/11*9/10 + 3/10*7/9*9/11*2/10 + 3/10*7/9*2/11*9/10 + 3/10*2/9*9/11*8/10"
   ]
  },
  {
   "cell_type": "code",
   "execution_count": 20,
   "metadata": {},
   "outputs": [
    {
     "data": {
      "text/plain": [
       "0.9987878787878788"
      ]
     },
     "execution_count": 20,
     "metadata": {},
     "output_type": "execute_result"
    }
   ],
   "source": [
    "1-3/10*2/9*2/11*1/10"
   ]
  }
 ],
 "metadata": {
  "kernelspec": {
   "display_name": "Python 3.10.8 64-bit (microsoft store)",
   "language": "python",
   "name": "python3"
  },
  "language_info": {
   "codemirror_mode": {
    "name": "ipython",
    "version": 3
   },
   "file_extension": ".py",
   "mimetype": "text/x-python",
   "name": "python",
   "nbconvert_exporter": "python",
   "pygments_lexer": "ipython3",
   "version": "3.10.8"
  },
  "orig_nbformat": 4,
  "vscode": {
   "interpreter": {
    "hash": "1cd28d61f03858efb2fed653fe4e185f6e230ee3d97d63c84dc7c03248a2b808"
   }
  }
 },
 "nbformat": 4,
 "nbformat_minor": 2
}
