{
 "cells": [
  {
   "attachments": {},
   "cell_type": "markdown",
   "metadata": {},
   "source": [
    "### Задание 5.1\n",
    "Когда используется критерий Стьюдента, а когда Z –критерий?\n",
    "\n",
    "### Ответ\n",
    "Z-тест используется, на основе нормального распределения и при известной дисперсии."
   ]
  },
  {
   "attachments": {},
   "cell_type": "markdown",
   "metadata": {},
   "source": [
    "### Задание 5.2\n",
    "Проведите тест гипотезы. Утверждается, что шарики для подшипников, изготовленные автоматическим станком, имеют средний диаметр 17 мм.\n",
    "Используя односторонний критерий с α=0,05, проверить эту гипотезу, если в выборке из n=100 шариков средний диаметр\n",
    "оказался равным 17.5 мм, а дисперсия известна и равна 4 кв. мм.\n",
    "\n",
    "### Решение\n",
    "\n",
    "Гипотеза $H_0$: $\\mu = 17$\n",
    "\n",
    "Гипотеза $H_1$: $\\mu = 17.5$ \n",
    "\n",
    "$\\alpha = 0.05$\n",
    "\n",
    "n = 100\n",
    "\n",
    "Дисперсия $D(X) = 4, \\sigma = 2$\n",
    "\n",
    "Так как у нас известна дисперсия, можем использовать z-критерий.\n",
    "\n",
    "$$Z_H=\\frac{\\bar{X}-\\mu}{\\sigma / \\sqrt{n}} = \\frac{{17.5}-17}{{2} / \\sqrt{100}} $$\n",
    "\n"
   ]
  },
  {
   "cell_type": "code",
   "execution_count": 2,
   "metadata": {},
   "outputs": [
    {
     "data": {
      "text/plain": [
       "2.5"
      ]
     },
     "execution_count": 2,
     "metadata": {},
     "output_type": "execute_result"
    }
   ],
   "source": [
    "import numpy as np\n",
    "\n",
    "z_h = (17.5 - 17)/(2/np.sqrt(100))\n",
    "z_h\n",
    "\n"
   ]
  },
  {
   "cell_type": "code",
   "execution_count": 4,
   "metadata": {},
   "outputs": [
    {
     "data": {
      "text/plain": [
       "1.6448536269514722"
      ]
     },
     "execution_count": 4,
     "metadata": {},
     "output_type": "execute_result"
    }
   ],
   "source": [
    "import scipy.stats as stats\n",
    "alpha = 0.05\n",
    "stats.norm.ppf(1 - alpha)"
   ]
  },
  {
   "attachments": {},
   "cell_type": "markdown",
   "metadata": {},
   "source": [
    "Так как критерий односторонний, по таблице находим значение z-критерия для $\\alpha = 0.05$ и это будет $Z_T = 1.64$. Наблюдаемое значение больше табличного, $Z_H > Z_T, 2.5 > 1.64$, поэтому подтверждается гипотеза $H_1$. \n",
    "\n",
    "### Ответ\n",
    "Утверждение, что шарики имеют средний размер 17мм неверно при $\\alpha = 0.05$."
   ]
  },
  {
   "attachments": {},
   "cell_type": "markdown",
   "metadata": {},
   "source": [
    "### Здача 5.3\n",
    "Проведите тест гипотезы. Продавец утверждает, что средний вес пачки печенья составляет 200 г.\n",
    "Из партии извлечена выборка из 10 пачек. Вес каждой пачки составляет:\n",
    "202, 203, 199, 197, 195, 201, 200, 204, 194, 190.\n",
    "Известно, что их веса распределены нормально\n",
    "Верно ли утверждение продавца, если учитывать, что доверительная вероятность равна 99%? (Провести двусторонний тест.)\n",
    "\n",
    "\n",
    "Решение:\n",
    "\n",
    "$H_0: \\mu = 200$\n",
    "\n",
    "$H_1: \\mu != 200$\n",
    "\n",
    "Так как это нормальное распределение, и дисперсия неизвестна, используем критерий Стюдента: \n",
    "\n",
    "$$t_H = \\dfrac{\\overline{X} - a}{\\sigma_H / \\sqrt{n}}$$"
   ]
  },
  {
   "cell_type": "code",
   "execution_count": 18,
   "metadata": {},
   "outputs": [
    {
     "data": {
      "text/plain": [
       "(198.5, 4.453463071962462)"
      ]
     },
     "execution_count": 18,
     "metadata": {},
     "output_type": "execute_result"
    }
   ],
   "source": [
    "import numpy as np\n",
    "from scipy import stats\n",
    "\n",
    "X = np.array([202, 203, 199, 197, 195, 201, 200, 204, 194, 190])\n",
    "a = 200\n",
    "alpha = 0.01\n",
    "n = len(X)\n",
    "mean = X.mean()\n",
    "std = X.std(ddof=1)\n",
    "(mean, std)"
   ]
  },
  {
   "attachments": {},
   "cell_type": "markdown",
   "metadata": {},
   "source": [
    "$$t_H = \\dfrac{mean - a}{std / \\sqrt{n}}$$"
   ]
  },
  {
   "cell_type": "code",
   "execution_count": 19,
   "metadata": {},
   "outputs": [
    {
     "data": {
      "text/plain": [
       "-1.0651074037450896"
      ]
     },
     "execution_count": 19,
     "metadata": {},
     "output_type": "execute_result"
    }
   ],
   "source": [
    "t_fact = (mean - a) / std * np.sqrt(n)\n",
    "t_fact"
   ]
  },
  {
   "cell_type": "code",
   "execution_count": 15,
   "metadata": {},
   "outputs": [
    {
     "data": {
      "text/plain": [
       "(-3.2498355440153697, 3.2498355440153697)"
      ]
     },
     "execution_count": 15,
     "metadata": {},
     "output_type": "execute_result"
    }
   ],
   "source": [
    "t1 = stats.t.ppf(alpha / 2, df=n - 1)\n",
    "t2 = stats.t.ppf(1 - alpha / 2, df=n - 1)\n",
    "\n",
    "t1, t2"
   ]
  },
  {
   "attachments": {},
   "cell_type": "markdown",
   "metadata": {},
   "source": [
    "По таблице находим значения для критерия Стьюдента. В результате $t_H = -1.06, и -3.2 < t_H < 3.25$,\n",
    "Значение $t_H$ находится в зоне принятия нулевой гипотезы, поэтому утерждение продавца верно.\n",
    "\n",
    "### Ответ\n",
    "Утерждение продавца верно"
   ]
  },
  {
   "attachments": {},
   "cell_type": "markdown",
   "metadata": {},
   "source": [
    "### Задача 5.4\n",
    "Рост матерей 172, 177, 158, 170, 178,175, 164, 160, 169, 165\n",
    "\n",
    "Рост взрослых дочерей: 173, 175, 162, 174, 175, 168, 155, 170, 160\n",
    "\n",
    "Есть ли статистически значимые различия в росте матерей и дочерей?\n",
    "\n",
    "### Решение\n",
    "Принимаем $\\alpha = 0.05$\n",
    "Используем двухвыборочную t-проверку \n",
    "\n",
    "$$t=\\frac{\\overline{x_1}-\\overline{x_2}}{\\sqrt{\\frac{s_1{ }^2}{n_1}+\\frac{s_2{ }^2}{n_2}}}$$\n",
    "\n"
   ]
  },
  {
   "cell_type": "code",
   "execution_count": 20,
   "metadata": {},
   "outputs": [
    {
     "data": {
      "text/plain": [
       "Ttest_indResult(statistic=0.24400587215969016, pvalue=0.8101467126543233)"
      ]
     },
     "execution_count": 20,
     "metadata": {},
     "output_type": "execute_result"
    }
   ],
   "source": [
    "x_1 = np.array([172, 177, 158, 170, 178,175, 164, 160, 169, 165])\n",
    "x_2 = np.array([173, 175, 162, 174, 175, 168, 155, 170, 160])\n",
    "\n",
    "stats.ttest_ind(x_1, x_2)"
   ]
  },
  {
   "attachments": {},
   "cell_type": "markdown",
   "metadata": {},
   "source": [
    "Получаем pvalue > $\\alpha$. Вывод: статистически значимых различий в росте матерей и дочерей не обнаружено на уровне значимости $\\alpha$ = 0.05"
   ]
  }
 ],
 "metadata": {
  "kernelspec": {
   "display_name": "Python 3.10.8 64-bit (microsoft store)",
   "language": "python",
   "name": "python3"
  },
  "language_info": {
   "codemirror_mode": {
    "name": "ipython",
    "version": 3
   },
   "file_extension": ".py",
   "mimetype": "text/x-python",
   "name": "python",
   "nbconvert_exporter": "python",
   "pygments_lexer": "ipython3",
   "version": "3.10.9 (tags/v3.10.9:1dd9be6, Dec  6 2022, 20:01:21) [MSC v.1934 64 bit (AMD64)]"
  },
  "orig_nbformat": 4,
  "vscode": {
   "interpreter": {
    "hash": "61fec5004ca42a1a961993fba5115fb87822bc7669b63d33ab5512a8f7e57206"
   }
  }
 },
 "nbformat": 4,
 "nbformat_minor": 2
}
